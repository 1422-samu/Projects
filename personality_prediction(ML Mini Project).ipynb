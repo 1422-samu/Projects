{
 "cells": [
  {
   "cell_type": "markdown",
   "id": "3ab15aea",
   "metadata": {},
   "source": [
    "# PROJECT ON SIMPLE PERSONALITY PREDICTION \n",
    "\n",
    "## Project by -  Isha S Adagale       (226531)\n",
    "##                                   &\n",
    "##                    - Samriddhi Raskar  (226523)"
   ]
  },
  {
   "cell_type": "code",
   "execution_count": 1,
   "id": "a6123496",
   "metadata": {},
   "outputs": [],
   "source": [
    "import pandas as pd"
   ]
  },
  {
   "cell_type": "code",
   "execution_count": 2,
   "id": "2ec50ebf",
   "metadata": {},
   "outputs": [],
   "source": [
    "df=pd.read_csv(r\"C:\\\\Users\\\\Isha\\\\Downloads\\\\archive(4)\\\\IPIP-FFM-data-8Nov2018\\\\data-final.csv\", delimiter=\"\\t\")"
   ]
  },
  {
   "cell_type": "code",
   "execution_count": 3,
   "id": "2ca08ea7",
   "metadata": {},
   "outputs": [
    {
     "data": {
      "text/html": [
       "<div>\n",
       "<style scoped>\n",
       "    .dataframe tbody tr th:only-of-type {\n",
       "        vertical-align: middle;\n",
       "    }\n",
       "\n",
       "    .dataframe tbody tr th {\n",
       "        vertical-align: top;\n",
       "    }\n",
       "\n",
       "    .dataframe thead th {\n",
       "        text-align: right;\n",
       "    }\n",
       "</style>\n",
       "<table border=\"1\" class=\"dataframe\">\n",
       "  <thead>\n",
       "    <tr style=\"text-align: right;\">\n",
       "      <th></th>\n",
       "      <th>EXT1</th>\n",
       "      <th>EXT2</th>\n",
       "      <th>EXT3</th>\n",
       "      <th>EXT4</th>\n",
       "      <th>EXT5</th>\n",
       "      <th>EXT6</th>\n",
       "      <th>EXT7</th>\n",
       "      <th>EXT8</th>\n",
       "      <th>EXT9</th>\n",
       "      <th>EXT10</th>\n",
       "      <th>...</th>\n",
       "      <th>dateload</th>\n",
       "      <th>screenw</th>\n",
       "      <th>screenh</th>\n",
       "      <th>introelapse</th>\n",
       "      <th>testelapse</th>\n",
       "      <th>endelapse</th>\n",
       "      <th>IPC</th>\n",
       "      <th>country</th>\n",
       "      <th>lat_appx_lots_of_err</th>\n",
       "      <th>long_appx_lots_of_err</th>\n",
       "    </tr>\n",
       "  </thead>\n",
       "  <tbody>\n",
       "    <tr>\n",
       "      <th>0</th>\n",
       "      <td>4.0</td>\n",
       "      <td>1.0</td>\n",
       "      <td>5.0</td>\n",
       "      <td>2.0</td>\n",
       "      <td>5.0</td>\n",
       "      <td>1.0</td>\n",
       "      <td>5.0</td>\n",
       "      <td>2.0</td>\n",
       "      <td>4.0</td>\n",
       "      <td>1.0</td>\n",
       "      <td>...</td>\n",
       "      <td>2016-03-03 02:01:01</td>\n",
       "      <td>768.0</td>\n",
       "      <td>1024.0</td>\n",
       "      <td>9.0</td>\n",
       "      <td>234.0</td>\n",
       "      <td>6</td>\n",
       "      <td>1</td>\n",
       "      <td>GB</td>\n",
       "      <td>51.5448</td>\n",
       "      <td>0.1991</td>\n",
       "    </tr>\n",
       "    <tr>\n",
       "      <th>1</th>\n",
       "      <td>3.0</td>\n",
       "      <td>5.0</td>\n",
       "      <td>3.0</td>\n",
       "      <td>4.0</td>\n",
       "      <td>3.0</td>\n",
       "      <td>3.0</td>\n",
       "      <td>2.0</td>\n",
       "      <td>5.0</td>\n",
       "      <td>1.0</td>\n",
       "      <td>5.0</td>\n",
       "      <td>...</td>\n",
       "      <td>2016-03-03 02:01:20</td>\n",
       "      <td>1360.0</td>\n",
       "      <td>768.0</td>\n",
       "      <td>12.0</td>\n",
       "      <td>179.0</td>\n",
       "      <td>11</td>\n",
       "      <td>1</td>\n",
       "      <td>MY</td>\n",
       "      <td>3.1698</td>\n",
       "      <td>101.706</td>\n",
       "    </tr>\n",
       "    <tr>\n",
       "      <th>2</th>\n",
       "      <td>2.0</td>\n",
       "      <td>3.0</td>\n",
       "      <td>4.0</td>\n",
       "      <td>4.0</td>\n",
       "      <td>3.0</td>\n",
       "      <td>2.0</td>\n",
       "      <td>1.0</td>\n",
       "      <td>3.0</td>\n",
       "      <td>2.0</td>\n",
       "      <td>5.0</td>\n",
       "      <td>...</td>\n",
       "      <td>2016-03-03 02:01:56</td>\n",
       "      <td>1366.0</td>\n",
       "      <td>768.0</td>\n",
       "      <td>3.0</td>\n",
       "      <td>186.0</td>\n",
       "      <td>7</td>\n",
       "      <td>1</td>\n",
       "      <td>GB</td>\n",
       "      <td>54.9119</td>\n",
       "      <td>-1.3833</td>\n",
       "    </tr>\n",
       "    <tr>\n",
       "      <th>3</th>\n",
       "      <td>2.0</td>\n",
       "      <td>2.0</td>\n",
       "      <td>2.0</td>\n",
       "      <td>3.0</td>\n",
       "      <td>4.0</td>\n",
       "      <td>2.0</td>\n",
       "      <td>2.0</td>\n",
       "      <td>4.0</td>\n",
       "      <td>1.0</td>\n",
       "      <td>4.0</td>\n",
       "      <td>...</td>\n",
       "      <td>2016-03-03 02:02:02</td>\n",
       "      <td>1920.0</td>\n",
       "      <td>1200.0</td>\n",
       "      <td>186.0</td>\n",
       "      <td>219.0</td>\n",
       "      <td>7</td>\n",
       "      <td>1</td>\n",
       "      <td>GB</td>\n",
       "      <td>51.75</td>\n",
       "      <td>-1.25</td>\n",
       "    </tr>\n",
       "    <tr>\n",
       "      <th>4</th>\n",
       "      <td>3.0</td>\n",
       "      <td>3.0</td>\n",
       "      <td>3.0</td>\n",
       "      <td>3.0</td>\n",
       "      <td>5.0</td>\n",
       "      <td>3.0</td>\n",
       "      <td>3.0</td>\n",
       "      <td>5.0</td>\n",
       "      <td>3.0</td>\n",
       "      <td>4.0</td>\n",
       "      <td>...</td>\n",
       "      <td>2016-03-03 02:02:57</td>\n",
       "      <td>1366.0</td>\n",
       "      <td>768.0</td>\n",
       "      <td>8.0</td>\n",
       "      <td>315.0</td>\n",
       "      <td>17</td>\n",
       "      <td>2</td>\n",
       "      <td>KE</td>\n",
       "      <td>1.0</td>\n",
       "      <td>38.0</td>\n",
       "    </tr>\n",
       "    <tr>\n",
       "      <th>...</th>\n",
       "      <td>...</td>\n",
       "      <td>...</td>\n",
       "      <td>...</td>\n",
       "      <td>...</td>\n",
       "      <td>...</td>\n",
       "      <td>...</td>\n",
       "      <td>...</td>\n",
       "      <td>...</td>\n",
       "      <td>...</td>\n",
       "      <td>...</td>\n",
       "      <td>...</td>\n",
       "      <td>...</td>\n",
       "      <td>...</td>\n",
       "      <td>...</td>\n",
       "      <td>...</td>\n",
       "      <td>...</td>\n",
       "      <td>...</td>\n",
       "      <td>...</td>\n",
       "      <td>...</td>\n",
       "      <td>...</td>\n",
       "      <td>...</td>\n",
       "    </tr>\n",
       "    <tr>\n",
       "      <th>1015336</th>\n",
       "      <td>4.0</td>\n",
       "      <td>2.0</td>\n",
       "      <td>4.0</td>\n",
       "      <td>3.0</td>\n",
       "      <td>4.0</td>\n",
       "      <td>3.0</td>\n",
       "      <td>3.0</td>\n",
       "      <td>3.0</td>\n",
       "      <td>3.0</td>\n",
       "      <td>3.0</td>\n",
       "      <td>...</td>\n",
       "      <td>2018-11-08 12:04:58</td>\n",
       "      <td>1920.0</td>\n",
       "      <td>1080.0</td>\n",
       "      <td>3.0</td>\n",
       "      <td>160.0</td>\n",
       "      <td>10</td>\n",
       "      <td>2</td>\n",
       "      <td>US</td>\n",
       "      <td>39.9883</td>\n",
       "      <td>-75.2208</td>\n",
       "    </tr>\n",
       "    <tr>\n",
       "      <th>1015337</th>\n",
       "      <td>4.0</td>\n",
       "      <td>3.0</td>\n",
       "      <td>4.0</td>\n",
       "      <td>3.0</td>\n",
       "      <td>3.0</td>\n",
       "      <td>3.0</td>\n",
       "      <td>4.0</td>\n",
       "      <td>4.0</td>\n",
       "      <td>3.0</td>\n",
       "      <td>3.0</td>\n",
       "      <td>...</td>\n",
       "      <td>2018-11-08 12:07:18</td>\n",
       "      <td>1920.0</td>\n",
       "      <td>1080.0</td>\n",
       "      <td>3.0</td>\n",
       "      <td>122.0</td>\n",
       "      <td>7</td>\n",
       "      <td>1</td>\n",
       "      <td>US</td>\n",
       "      <td>38.0</td>\n",
       "      <td>-97.0</td>\n",
       "    </tr>\n",
       "    <tr>\n",
       "      <th>1015338</th>\n",
       "      <td>4.0</td>\n",
       "      <td>2.0</td>\n",
       "      <td>4.0</td>\n",
       "      <td>3.0</td>\n",
       "      <td>5.0</td>\n",
       "      <td>1.0</td>\n",
       "      <td>4.0</td>\n",
       "      <td>2.0</td>\n",
       "      <td>4.0</td>\n",
       "      <td>4.0</td>\n",
       "      <td>...</td>\n",
       "      <td>2018-11-08 12:07:49</td>\n",
       "      <td>1920.0</td>\n",
       "      <td>1080.0</td>\n",
       "      <td>2.0</td>\n",
       "      <td>135.0</td>\n",
       "      <td>12</td>\n",
       "      <td>6</td>\n",
       "      <td>US</td>\n",
       "      <td>36.1473</td>\n",
       "      <td>-86.777</td>\n",
       "    </tr>\n",
       "    <tr>\n",
       "      <th>1015339</th>\n",
       "      <td>2.0</td>\n",
       "      <td>4.0</td>\n",
       "      <td>3.0</td>\n",
       "      <td>4.0</td>\n",
       "      <td>2.0</td>\n",
       "      <td>2.0</td>\n",
       "      <td>1.0</td>\n",
       "      <td>4.0</td>\n",
       "      <td>2.0</td>\n",
       "      <td>4.0</td>\n",
       "      <td>...</td>\n",
       "      <td>2018-11-08 12:08:34</td>\n",
       "      <td>1920.0</td>\n",
       "      <td>1080.0</td>\n",
       "      <td>6.0</td>\n",
       "      <td>212.0</td>\n",
       "      <td>8</td>\n",
       "      <td>1</td>\n",
       "      <td>US</td>\n",
       "      <td>34.1067</td>\n",
       "      <td>-117.8067</td>\n",
       "    </tr>\n",
       "    <tr>\n",
       "      <th>1015340</th>\n",
       "      <td>4.0</td>\n",
       "      <td>2.0</td>\n",
       "      <td>4.0</td>\n",
       "      <td>2.0</td>\n",
       "      <td>4.0</td>\n",
       "      <td>1.0</td>\n",
       "      <td>4.0</td>\n",
       "      <td>2.0</td>\n",
       "      <td>4.0</td>\n",
       "      <td>4.0</td>\n",
       "      <td>...</td>\n",
       "      <td>2018-11-08 12:08:45</td>\n",
       "      <td>1920.0</td>\n",
       "      <td>1080.0</td>\n",
       "      <td>3.0</td>\n",
       "      <td>176.0</td>\n",
       "      <td>9</td>\n",
       "      <td>1</td>\n",
       "      <td>US</td>\n",
       "      <td>38.0</td>\n",
       "      <td>-97.0</td>\n",
       "    </tr>\n",
       "  </tbody>\n",
       "</table>\n",
       "<p>1015341 rows × 110 columns</p>\n",
       "</div>"
      ],
      "text/plain": [
       "         EXT1  EXT2  EXT3  EXT4  EXT5  EXT6  EXT7  EXT8  EXT9  EXT10  ...  \\\n",
       "0         4.0   1.0   5.0   2.0   5.0   1.0   5.0   2.0   4.0    1.0  ...   \n",
       "1         3.0   5.0   3.0   4.0   3.0   3.0   2.0   5.0   1.0    5.0  ...   \n",
       "2         2.0   3.0   4.0   4.0   3.0   2.0   1.0   3.0   2.0    5.0  ...   \n",
       "3         2.0   2.0   2.0   3.0   4.0   2.0   2.0   4.0   1.0    4.0  ...   \n",
       "4         3.0   3.0   3.0   3.0   5.0   3.0   3.0   5.0   3.0    4.0  ...   \n",
       "...       ...   ...   ...   ...   ...   ...   ...   ...   ...    ...  ...   \n",
       "1015336   4.0   2.0   4.0   3.0   4.0   3.0   3.0   3.0   3.0    3.0  ...   \n",
       "1015337   4.0   3.0   4.0   3.0   3.0   3.0   4.0   4.0   3.0    3.0  ...   \n",
       "1015338   4.0   2.0   4.0   3.0   5.0   1.0   4.0   2.0   4.0    4.0  ...   \n",
       "1015339   2.0   4.0   3.0   4.0   2.0   2.0   1.0   4.0   2.0    4.0  ...   \n",
       "1015340   4.0   2.0   4.0   2.0   4.0   1.0   4.0   2.0   4.0    4.0  ...   \n",
       "\n",
       "                    dateload  screenw  screenh  introelapse  testelapse  \\\n",
       "0        2016-03-03 02:01:01    768.0   1024.0          9.0       234.0   \n",
       "1        2016-03-03 02:01:20   1360.0    768.0         12.0       179.0   \n",
       "2        2016-03-03 02:01:56   1366.0    768.0          3.0       186.0   \n",
       "3        2016-03-03 02:02:02   1920.0   1200.0        186.0       219.0   \n",
       "4        2016-03-03 02:02:57   1366.0    768.0          8.0       315.0   \n",
       "...                      ...      ...      ...          ...         ...   \n",
       "1015336  2018-11-08 12:04:58   1920.0   1080.0          3.0       160.0   \n",
       "1015337  2018-11-08 12:07:18   1920.0   1080.0          3.0       122.0   \n",
       "1015338  2018-11-08 12:07:49   1920.0   1080.0          2.0       135.0   \n",
       "1015339  2018-11-08 12:08:34   1920.0   1080.0          6.0       212.0   \n",
       "1015340  2018-11-08 12:08:45   1920.0   1080.0          3.0       176.0   \n",
       "\n",
       "         endelapse  IPC  country  lat_appx_lots_of_err  long_appx_lots_of_err  \n",
       "0                6    1       GB               51.5448                 0.1991  \n",
       "1               11    1       MY                3.1698                101.706  \n",
       "2                7    1       GB               54.9119                -1.3833  \n",
       "3                7    1       GB                 51.75                  -1.25  \n",
       "4               17    2       KE                   1.0                   38.0  \n",
       "...            ...  ...      ...                   ...                    ...  \n",
       "1015336         10    2       US               39.9883               -75.2208  \n",
       "1015337          7    1       US                  38.0                  -97.0  \n",
       "1015338         12    6       US               36.1473                -86.777  \n",
       "1015339          8    1       US               34.1067              -117.8067  \n",
       "1015340          9    1       US                  38.0                  -97.0  \n",
       "\n",
       "[1015341 rows x 110 columns]"
      ]
     },
     "execution_count": 3,
     "metadata": {},
     "output_type": "execute_result"
    }
   ],
   "source": [
    "df"
   ]
  },
  {
   "cell_type": "markdown",
   "id": "f6f8240c",
   "metadata": {},
   "source": [
    "# About our dataset"
   ]
  },
  {
   "cell_type": "markdown",
   "id": "1a2241da",
   "metadata": {},
   "source": [
    "## This dataset is from the Big Five Personality Traits questionnaire, which assesses individuals on the following five personality dimensions:\n",
    "\n"
   ]
  },
  {
   "cell_type": "markdown",
   "id": "eb172592",
   "metadata": {},
   "source": [
    "### Extroversion (EXT)\n",
    "### Agreeableness (AGR)\n",
    "### Conscientiousness (CSN)\n",
    "### Neuroticism (EST)\n",
    "### Openness to Experience (OPN)\n",
    "\n",
    "### *For each of these dimensions, the questionnaire assesses individuals on ten facets or sub-traits, which are denoted by the numbers following each dimension in the dataset:\n",
    "\n",
    "### EXT1 through EXT10\n",
    "### AGR1 through AGR10\n",
    "### CSN1 through CSN10\n",
    "### EST1 through EST10\n",
    "### OPN1 through OPN10\n",
    "\n",
    "### -->Finally, there are additional columns in the dataset that provide demographic information about each participant, such as their country of origin, approximate latitude and longitude coordinates, and screen resolution. There are also columns indicating the date and duration of each participant's testing session."
   ]
  },
  {
   "cell_type": "code",
   "execution_count": 4,
   "id": "ae1910e1",
   "metadata": {},
   "outputs": [],
   "source": [
    "columns = df.columns"
   ]
  },
  {
   "cell_type": "markdown",
   "id": "541ba792",
   "metadata": {},
   "source": [
    "### This line retrieves the names of all the columns in the DataFrame df."
   ]
  },
  {
   "cell_type": "code",
   "execution_count": 5,
   "id": "5c379533",
   "metadata": {},
   "outputs": [],
   "source": [
    "import numpy as np"
   ]
  },
  {
   "cell_type": "code",
   "execution_count": 6,
   "id": "b80cb68e",
   "metadata": {},
   "outputs": [
    {
     "data": {
      "text/plain": [
       "EXT1                     1\n",
       "EST10_E                  1\n",
       "CSN1_E                   1\n",
       "AGR10_E                  1\n",
       "AGR9_E                   1\n",
       "                        ..\n",
       "CSN4                     1\n",
       "CSN3                     1\n",
       "CSN2                     1\n",
       "CSN1                     1\n",
       "long_appx_lots_of_err    1\n",
       "Length: 110, dtype: int64"
      ]
     },
     "execution_count": 6,
     "metadata": {},
     "output_type": "execute_result"
    }
   ],
   "source": [
    "df.columns.value_counts()"
   ]
  },
  {
   "cell_type": "markdown",
   "id": "93a87fec",
   "metadata": {},
   "source": [
    "### As there are 110 columns in our dataset so we are going to take only 50 columns from it"
   ]
  },
  {
   "cell_type": "code",
   "execution_count": 7,
   "id": "7eb54c38",
   "metadata": {},
   "outputs": [],
   "source": [
    "data = df[df.columns[0:50]]"
   ]
  },
  {
   "cell_type": "code",
   "execution_count": 8,
   "id": "f58b952d",
   "metadata": {
    "scrolled": true
   },
   "outputs": [
    {
     "data": {
      "text/html": [
       "<div>\n",
       "<style scoped>\n",
       "    .dataframe tbody tr th:only-of-type {\n",
       "        vertical-align: middle;\n",
       "    }\n",
       "\n",
       "    .dataframe tbody tr th {\n",
       "        vertical-align: top;\n",
       "    }\n",
       "\n",
       "    .dataframe thead th {\n",
       "        text-align: right;\n",
       "    }\n",
       "</style>\n",
       "<table border=\"1\" class=\"dataframe\">\n",
       "  <thead>\n",
       "    <tr style=\"text-align: right;\">\n",
       "      <th></th>\n",
       "      <th>EXT1</th>\n",
       "      <th>EXT2</th>\n",
       "      <th>EXT3</th>\n",
       "      <th>EXT4</th>\n",
       "      <th>EXT5</th>\n",
       "      <th>EXT6</th>\n",
       "      <th>EXT7</th>\n",
       "      <th>EXT8</th>\n",
       "      <th>EXT9</th>\n",
       "      <th>EXT10</th>\n",
       "      <th>...</th>\n",
       "      <th>OPN1</th>\n",
       "      <th>OPN2</th>\n",
       "      <th>OPN3</th>\n",
       "      <th>OPN4</th>\n",
       "      <th>OPN5</th>\n",
       "      <th>OPN6</th>\n",
       "      <th>OPN7</th>\n",
       "      <th>OPN8</th>\n",
       "      <th>OPN9</th>\n",
       "      <th>OPN10</th>\n",
       "    </tr>\n",
       "  </thead>\n",
       "  <tbody>\n",
       "    <tr>\n",
       "      <th>0</th>\n",
       "      <td>4.0</td>\n",
       "      <td>1.0</td>\n",
       "      <td>5.0</td>\n",
       "      <td>2.0</td>\n",
       "      <td>5.0</td>\n",
       "      <td>1.0</td>\n",
       "      <td>5.0</td>\n",
       "      <td>2.0</td>\n",
       "      <td>4.0</td>\n",
       "      <td>1.0</td>\n",
       "      <td>...</td>\n",
       "      <td>5.0</td>\n",
       "      <td>1.0</td>\n",
       "      <td>4.0</td>\n",
       "      <td>1.0</td>\n",
       "      <td>4.0</td>\n",
       "      <td>1.0</td>\n",
       "      <td>5.0</td>\n",
       "      <td>3.0</td>\n",
       "      <td>4.0</td>\n",
       "      <td>5.0</td>\n",
       "    </tr>\n",
       "    <tr>\n",
       "      <th>1</th>\n",
       "      <td>3.0</td>\n",
       "      <td>5.0</td>\n",
       "      <td>3.0</td>\n",
       "      <td>4.0</td>\n",
       "      <td>3.0</td>\n",
       "      <td>3.0</td>\n",
       "      <td>2.0</td>\n",
       "      <td>5.0</td>\n",
       "      <td>1.0</td>\n",
       "      <td>5.0</td>\n",
       "      <td>...</td>\n",
       "      <td>1.0</td>\n",
       "      <td>2.0</td>\n",
       "      <td>4.0</td>\n",
       "      <td>2.0</td>\n",
       "      <td>3.0</td>\n",
       "      <td>1.0</td>\n",
       "      <td>4.0</td>\n",
       "      <td>2.0</td>\n",
       "      <td>5.0</td>\n",
       "      <td>3.0</td>\n",
       "    </tr>\n",
       "    <tr>\n",
       "      <th>2</th>\n",
       "      <td>2.0</td>\n",
       "      <td>3.0</td>\n",
       "      <td>4.0</td>\n",
       "      <td>4.0</td>\n",
       "      <td>3.0</td>\n",
       "      <td>2.0</td>\n",
       "      <td>1.0</td>\n",
       "      <td>3.0</td>\n",
       "      <td>2.0</td>\n",
       "      <td>5.0</td>\n",
       "      <td>...</td>\n",
       "      <td>5.0</td>\n",
       "      <td>1.0</td>\n",
       "      <td>2.0</td>\n",
       "      <td>1.0</td>\n",
       "      <td>4.0</td>\n",
       "      <td>2.0</td>\n",
       "      <td>5.0</td>\n",
       "      <td>3.0</td>\n",
       "      <td>4.0</td>\n",
       "      <td>4.0</td>\n",
       "    </tr>\n",
       "    <tr>\n",
       "      <th>3</th>\n",
       "      <td>2.0</td>\n",
       "      <td>2.0</td>\n",
       "      <td>2.0</td>\n",
       "      <td>3.0</td>\n",
       "      <td>4.0</td>\n",
       "      <td>2.0</td>\n",
       "      <td>2.0</td>\n",
       "      <td>4.0</td>\n",
       "      <td>1.0</td>\n",
       "      <td>4.0</td>\n",
       "      <td>...</td>\n",
       "      <td>4.0</td>\n",
       "      <td>2.0</td>\n",
       "      <td>5.0</td>\n",
       "      <td>2.0</td>\n",
       "      <td>3.0</td>\n",
       "      <td>1.0</td>\n",
       "      <td>4.0</td>\n",
       "      <td>4.0</td>\n",
       "      <td>3.0</td>\n",
       "      <td>3.0</td>\n",
       "    </tr>\n",
       "    <tr>\n",
       "      <th>4</th>\n",
       "      <td>3.0</td>\n",
       "      <td>3.0</td>\n",
       "      <td>3.0</td>\n",
       "      <td>3.0</td>\n",
       "      <td>5.0</td>\n",
       "      <td>3.0</td>\n",
       "      <td>3.0</td>\n",
       "      <td>5.0</td>\n",
       "      <td>3.0</td>\n",
       "      <td>4.0</td>\n",
       "      <td>...</td>\n",
       "      <td>5.0</td>\n",
       "      <td>1.0</td>\n",
       "      <td>5.0</td>\n",
       "      <td>1.0</td>\n",
       "      <td>5.0</td>\n",
       "      <td>1.0</td>\n",
       "      <td>5.0</td>\n",
       "      <td>3.0</td>\n",
       "      <td>5.0</td>\n",
       "      <td>5.0</td>\n",
       "    </tr>\n",
       "    <tr>\n",
       "      <th>...</th>\n",
       "      <td>...</td>\n",
       "      <td>...</td>\n",
       "      <td>...</td>\n",
       "      <td>...</td>\n",
       "      <td>...</td>\n",
       "      <td>...</td>\n",
       "      <td>...</td>\n",
       "      <td>...</td>\n",
       "      <td>...</td>\n",
       "      <td>...</td>\n",
       "      <td>...</td>\n",
       "      <td>...</td>\n",
       "      <td>...</td>\n",
       "      <td>...</td>\n",
       "      <td>...</td>\n",
       "      <td>...</td>\n",
       "      <td>...</td>\n",
       "      <td>...</td>\n",
       "      <td>...</td>\n",
       "      <td>...</td>\n",
       "      <td>...</td>\n",
       "    </tr>\n",
       "    <tr>\n",
       "      <th>1015336</th>\n",
       "      <td>4.0</td>\n",
       "      <td>2.0</td>\n",
       "      <td>4.0</td>\n",
       "      <td>3.0</td>\n",
       "      <td>4.0</td>\n",
       "      <td>3.0</td>\n",
       "      <td>3.0</td>\n",
       "      <td>3.0</td>\n",
       "      <td>3.0</td>\n",
       "      <td>3.0</td>\n",
       "      <td>...</td>\n",
       "      <td>2.0</td>\n",
       "      <td>2.0</td>\n",
       "      <td>4.0</td>\n",
       "      <td>3.0</td>\n",
       "      <td>4.0</td>\n",
       "      <td>2.0</td>\n",
       "      <td>4.0</td>\n",
       "      <td>2.0</td>\n",
       "      <td>2.0</td>\n",
       "      <td>4.0</td>\n",
       "    </tr>\n",
       "    <tr>\n",
       "      <th>1015337</th>\n",
       "      <td>4.0</td>\n",
       "      <td>3.0</td>\n",
       "      <td>4.0</td>\n",
       "      <td>3.0</td>\n",
       "      <td>3.0</td>\n",
       "      <td>3.0</td>\n",
       "      <td>4.0</td>\n",
       "      <td>4.0</td>\n",
       "      <td>3.0</td>\n",
       "      <td>3.0</td>\n",
       "      <td>...</td>\n",
       "      <td>4.0</td>\n",
       "      <td>1.0</td>\n",
       "      <td>5.0</td>\n",
       "      <td>1.0</td>\n",
       "      <td>5.0</td>\n",
       "      <td>1.0</td>\n",
       "      <td>3.0</td>\n",
       "      <td>4.0</td>\n",
       "      <td>5.0</td>\n",
       "      <td>4.0</td>\n",
       "    </tr>\n",
       "    <tr>\n",
       "      <th>1015338</th>\n",
       "      <td>4.0</td>\n",
       "      <td>2.0</td>\n",
       "      <td>4.0</td>\n",
       "      <td>3.0</td>\n",
       "      <td>5.0</td>\n",
       "      <td>1.0</td>\n",
       "      <td>4.0</td>\n",
       "      <td>2.0</td>\n",
       "      <td>4.0</td>\n",
       "      <td>4.0</td>\n",
       "      <td>...</td>\n",
       "      <td>5.0</td>\n",
       "      <td>1.0</td>\n",
       "      <td>5.0</td>\n",
       "      <td>1.0</td>\n",
       "      <td>4.0</td>\n",
       "      <td>1.0</td>\n",
       "      <td>5.0</td>\n",
       "      <td>5.0</td>\n",
       "      <td>4.0</td>\n",
       "      <td>5.0</td>\n",
       "    </tr>\n",
       "    <tr>\n",
       "      <th>1015339</th>\n",
       "      <td>2.0</td>\n",
       "      <td>4.0</td>\n",
       "      <td>3.0</td>\n",
       "      <td>4.0</td>\n",
       "      <td>2.0</td>\n",
       "      <td>2.0</td>\n",
       "      <td>1.0</td>\n",
       "      <td>4.0</td>\n",
       "      <td>2.0</td>\n",
       "      <td>4.0</td>\n",
       "      <td>...</td>\n",
       "      <td>5.0</td>\n",
       "      <td>2.0</td>\n",
       "      <td>4.0</td>\n",
       "      <td>2.0</td>\n",
       "      <td>3.0</td>\n",
       "      <td>2.0</td>\n",
       "      <td>4.0</td>\n",
       "      <td>5.0</td>\n",
       "      <td>5.0</td>\n",
       "      <td>3.0</td>\n",
       "    </tr>\n",
       "    <tr>\n",
       "      <th>1015340</th>\n",
       "      <td>4.0</td>\n",
       "      <td>2.0</td>\n",
       "      <td>4.0</td>\n",
       "      <td>2.0</td>\n",
       "      <td>4.0</td>\n",
       "      <td>1.0</td>\n",
       "      <td>4.0</td>\n",
       "      <td>2.0</td>\n",
       "      <td>4.0</td>\n",
       "      <td>4.0</td>\n",
       "      <td>...</td>\n",
       "      <td>5.0</td>\n",
       "      <td>1.0</td>\n",
       "      <td>5.0</td>\n",
       "      <td>1.0</td>\n",
       "      <td>3.0</td>\n",
       "      <td>1.0</td>\n",
       "      <td>5.0</td>\n",
       "      <td>4.0</td>\n",
       "      <td>5.0</td>\n",
       "      <td>5.0</td>\n",
       "    </tr>\n",
       "  </tbody>\n",
       "</table>\n",
       "<p>1015341 rows × 50 columns</p>\n",
       "</div>"
      ],
      "text/plain": [
       "         EXT1  EXT2  EXT3  EXT4  EXT5  EXT6  EXT7  EXT8  EXT9  EXT10  ...  \\\n",
       "0         4.0   1.0   5.0   2.0   5.0   1.0   5.0   2.0   4.0    1.0  ...   \n",
       "1         3.0   5.0   3.0   4.0   3.0   3.0   2.0   5.0   1.0    5.0  ...   \n",
       "2         2.0   3.0   4.0   4.0   3.0   2.0   1.0   3.0   2.0    5.0  ...   \n",
       "3         2.0   2.0   2.0   3.0   4.0   2.0   2.0   4.0   1.0    4.0  ...   \n",
       "4         3.0   3.0   3.0   3.0   5.0   3.0   3.0   5.0   3.0    4.0  ...   \n",
       "...       ...   ...   ...   ...   ...   ...   ...   ...   ...    ...  ...   \n",
       "1015336   4.0   2.0   4.0   3.0   4.0   3.0   3.0   3.0   3.0    3.0  ...   \n",
       "1015337   4.0   3.0   4.0   3.0   3.0   3.0   4.0   4.0   3.0    3.0  ...   \n",
       "1015338   4.0   2.0   4.0   3.0   5.0   1.0   4.0   2.0   4.0    4.0  ...   \n",
       "1015339   2.0   4.0   3.0   4.0   2.0   2.0   1.0   4.0   2.0    4.0  ...   \n",
       "1015340   4.0   2.0   4.0   2.0   4.0   1.0   4.0   2.0   4.0    4.0  ...   \n",
       "\n",
       "         OPN1  OPN2  OPN3  OPN4  OPN5  OPN6  OPN7  OPN8  OPN9  OPN10  \n",
       "0         5.0   1.0   4.0   1.0   4.0   1.0   5.0   3.0   4.0    5.0  \n",
       "1         1.0   2.0   4.0   2.0   3.0   1.0   4.0   2.0   5.0    3.0  \n",
       "2         5.0   1.0   2.0   1.0   4.0   2.0   5.0   3.0   4.0    4.0  \n",
       "3         4.0   2.0   5.0   2.0   3.0   1.0   4.0   4.0   3.0    3.0  \n",
       "4         5.0   1.0   5.0   1.0   5.0   1.0   5.0   3.0   5.0    5.0  \n",
       "...       ...   ...   ...   ...   ...   ...   ...   ...   ...    ...  \n",
       "1015336   2.0   2.0   4.0   3.0   4.0   2.0   4.0   2.0   2.0    4.0  \n",
       "1015337   4.0   1.0   5.0   1.0   5.0   1.0   3.0   4.0   5.0    4.0  \n",
       "1015338   5.0   1.0   5.0   1.0   4.0   1.0   5.0   5.0   4.0    5.0  \n",
       "1015339   5.0   2.0   4.0   2.0   3.0   2.0   4.0   5.0   5.0    3.0  \n",
       "1015340   5.0   1.0   5.0   1.0   3.0   1.0   5.0   4.0   5.0    5.0  \n",
       "\n",
       "[1015341 rows x 50 columns]"
      ]
     },
     "execution_count": 8,
     "metadata": {},
     "output_type": "execute_result"
    }
   ],
   "source": [
    "data"
   ]
  },
  {
   "cell_type": "code",
   "execution_count": 9,
   "id": "b1e58504",
   "metadata": {},
   "outputs": [
    {
     "data": {
      "text/plain": [
       "EXT1                     1783\n",
       "EXT2                     1783\n",
       "EXT3                     1783\n",
       "EXT4                     1783\n",
       "EXT5                     1783\n",
       "                         ... \n",
       "endelapse                   0\n",
       "IPC                         0\n",
       "country                    77\n",
       "lat_appx_lots_of_err        0\n",
       "long_appx_lots_of_err       0\n",
       "Length: 110, dtype: int64"
      ]
     },
     "execution_count": 9,
     "metadata": {},
     "output_type": "execute_result"
    }
   ],
   "source": [
    "df.isna().sum() #checking for null values in original dataset"
   ]
  },
  {
   "cell_type": "code",
   "execution_count": 10,
   "id": "87c5a25d",
   "metadata": {},
   "outputs": [],
   "source": [
    "data = data.fillna(0)"
   ]
  },
  {
   "cell_type": "code",
   "execution_count": 11,
   "id": "06c42226",
   "metadata": {},
   "outputs": [],
   "source": [
    "from sklearn.cluster import MiniBatchKMeans\n",
    "import warnings \n",
    "warnings.filterwarnings(\"ignore\")"
   ]
  },
  {
   "cell_type": "markdown",
   "id": "68346d5e",
   "metadata": {},
   "source": [
    "### MiniBatchKMeans is a clustering algorithm provided by the scikit-learn machine learning library in Python. It is a variant of the standard KMeans algorithm that is designed to work with large datasets, as it uses a mini-batch of the data rather than the entire dataset to update the clusters at each iteration.\n",
    "\n",
    "### The algorithm works by randomly selecting a subset (or \"mini-batch\") of the input data at each iteration and updating the cluster centroids based on the mean of the points in the mini-batch. This process is repeated until convergence is reached or a specified number of iterations is performed.\n",
    "\n",
    "### One of the advantages of MiniBatchKMeans over the standard KMeans algorithm is that it can be much faster, especially for large datasets. This is because updating the centroids based on a mini-batch of the data requires less computational resources than updating them based on the entire dataset.\n",
    "\n"
   ]
  },
  {
   "cell_type": "code",
   "execution_count": 12,
   "id": "cf4f1676",
   "metadata": {},
   "outputs": [],
   "source": [
    "kmeans = MiniBatchKMeans(n_clusters=10, random_state=2, batch_size=100, max_iter=100).fit(data)"
   ]
  },
  {
   "cell_type": "markdown",
   "id": "35275700",
   "metadata": {},
   "source": [
    "### performing k-means clustering on the data stored in the variable X using the MiniBatchKMeans algorithm. The key parameters for this clustering are:\n",
    "\n",
    "### n_clusters: the number of clusters to form. In this case, it is set to 10.\n",
    "\n",
    "### random_state: controls the randomness of the algorithm. Setting it to a specific integer value ensures that the clustering will be reproducible.\n",
    "\n",
    "### batch_size: the size of the mini-batches used to compute the KMeans clustering.\n",
    "\n",
    "### max_iter: the maximum number of iterations for each batch. This is an important parameter because k-means clustering can be computationally expensive, and setting a limit on the number of iterations helps to prevent the algorithm from running indefinitely.\n",
    "\n",
    "### The .fit() method is then used to train the clustering algorithm on the data stored in X. The resulting kmeans object can be used to predict which cluster a new data point belongs to."
   ]
  },
  {
   "cell_type": "code",
   "execution_count": 13,
   "id": "8ace0275",
   "metadata": {},
   "outputs": [
    {
     "data": {
      "text/plain": [
       "10"
      ]
     },
     "execution_count": 13,
     "metadata": {},
     "output_type": "execute_result"
    }
   ],
   "source": [
    "len(kmeans.cluster_centers_) #no. of clusters"
   ]
  },
  {
   "cell_type": "code",
   "execution_count": 14,
   "id": "e304663e",
   "metadata": {},
   "outputs": [],
   "source": [
    "one = kmeans.cluster_centers_[0] #selects the coordinates of the first centroid(cluster center)"
   ]
  },
  {
   "cell_type": "code",
   "execution_count": 15,
   "id": "e5485284",
   "metadata": {},
   "outputs": [],
   "source": [
    "two = kmeans.cluster_centers_[1]"
   ]
  },
  {
   "cell_type": "code",
   "execution_count": 16,
   "id": "dbeb35ba",
   "metadata": {},
   "outputs": [],
   "source": [
    "three =kmeans.cluster_centers_[2]"
   ]
  },
  {
   "cell_type": "code",
   "execution_count": 17,
   "id": "b0d23efa",
   "metadata": {},
   "outputs": [],
   "source": [
    "four = kmeans.cluster_centers_[3]"
   ]
  },
  {
   "cell_type": "code",
   "execution_count": 18,
   "id": "764e1c97",
   "metadata": {},
   "outputs": [],
   "source": [
    "five =kmeans.cluster_centers_[4]"
   ]
  },
  {
   "cell_type": "code",
   "execution_count": 19,
   "id": "f2377d0b",
   "metadata": {},
   "outputs": [],
   "source": [
    "six = kmeans.cluster_centers_[5]"
   ]
  },
  {
   "cell_type": "code",
   "execution_count": 20,
   "id": "edde2060",
   "metadata": {},
   "outputs": [],
   "source": [
    "seven = kmeans.cluster_centers_[6]"
   ]
  },
  {
   "cell_type": "code",
   "execution_count": 21,
   "id": "32268b52",
   "metadata": {},
   "outputs": [],
   "source": [
    "eight = kmeans.cluster_centers_[7]"
   ]
  },
  {
   "cell_type": "code",
   "execution_count": 22,
   "id": "08c2d196",
   "metadata": {},
   "outputs": [],
   "source": [
    "nine= kmeans.cluster_centers_[8]"
   ]
  },
  {
   "cell_type": "code",
   "execution_count": 23,
   "id": "9c6e92df",
   "metadata": {},
   "outputs": [],
   "source": [
    "ten = kmeans.cluster_centers_[9]"
   ]
  },
  {
   "cell_type": "code",
   "execution_count": 24,
   "id": "cb295700",
   "metadata": {},
   "outputs": [],
   "source": [
    "all_types = {'one':one, 'two': two, 'three' :three, 'four':four, 'five':five, 'six': six, 'seven': seven, 'eight': eight,\n",
    "             'nine': nine, 'ten': ten}\n",
    "\n",
    "all_types_scores ={}\n",
    "\n",
    "for name, personality_type in all_types.items():\n",
    "    personality_trait = {}\n",
    "\n",
    "    personality_trait['extroversion_score'] =  personality_type[0] - personality_type[1] +personality_type[2] - personality_type[3] + personality_type[4] - personality_type[5] +personality_type[6] - personality_type[7] + personality_type[8] -personality_type[9]\n",
    "    personality_trait['neuroticism_score'] =  personality_type[0] - personality_type[1] + personality_type[2] -personality_type[3] + personality_type[4] + personality_type[5] + personality_type[6] + personality_type[7] + personality_type[8] + personality_type[9]\n",
    "    personality_trait['agreeableness_score'] =  -personality_type[0] +personality_type[1] - personality_type[2] + personality_type[3] - personality_type[4] - personality_type[5] + personality_type[6] - personality_type[7] + personality_type[8] + personality_type[9]\n",
    "    personality_trait['conscientiousness_score'] = personality_type[0] - personality_type[1] + personality_type[2] -personality_type[3] +personality_type[4] - personality_type[5] +personality_type[6] -personality_type[7] + personality_type[8] + personality_type[9]\n",
    "    personality_trait['openness_score'] =  personality_type[0] -personality_type[1] + personality_type[2] - personality_type[3] + personality_type[4] - personality_type[5] +personality_type[6] + personality_type[7] + personality_type[8] + personality_type[9]\n",
    "    \n",
    "    all_types_scores[name] = personality_trait"
   ]
  },
  {
   "cell_type": "markdown",
   "id": "a281bfc2",
   "metadata": {},
   "source": [
    "### the variables personality_type[0] through personality_type[9] likely correspond to the individual's responses to each of the ten items on the assessment, in order. The code subtracts the scores on the \"introverted\" items (items 2, 4, 6, and 8) from the scores on the \"extroverted\" items (items 1, 3, 5, 7, and 9), and adds the score on the neutral item (item 10) to arrive at the overall extroversion score.\n",
    "\n",
    "### the variables personality_type[0] through personality_type[9] likely correspond to the individual's responses to each of the ten items on the assessment, in order. The code subtracts the scores on the positively-worded items (items 2, 4, and 6) from the scores on the negatively-worded items (items 1, 3, and 5) and then adds the scores on the remaining items (items 7 through 10) to arrive at the overall neuroticism score.\n",
    "\n",
    "### the variables personality_type[0] through personality_type[9] likely correspond to the individual's responses to each of the ten items on the assessment, in order. The code subtracts the scores on the negatively-worded items (items 1, 3, 5, and 7) from the scores on the positively-worded items (items 2, 4, 6, and 8), and then adds the scores on the remaining items (items 9 and 10) to arrive at the overall agreeableness score.\n",
    "\n",
    "### the variables personality_type[0] through personality_type[9] likely correspond to the individual's responses to each of the ten items on the assessment, in order. The code subtracts the scores on the negatively-worded items (items 2, 4, 6, and 8) from the scores on the positively-worded items (items 1, 3, 5, and 7), and then adds the scores on the remaining items (items 9 and 10) to arrive at the overall conscientiousness score.\n",
    "\n",
    "### the variables personality_type[0] through personality_type[9] likely correspond to the individual's responses to each of the ten items on the assessment, in order. The code subtracts the scores on the negatively-worded items (items 2, 4, and 6) from the scores on the positively-worded items (items 1, 3, and 5), and then adds the scores on all items related to openness (items 7 through 10) to arrive at the overall openness score."
   ]
  },
  {
   "cell_type": "code",
   "execution_count": 25,
   "id": "dcd6e20a",
   "metadata": {},
   "outputs": [
    {
     "data": {
      "text/plain": [
       "{'one': {'extroversion_score': -11.647040546838596,\n",
       "  'neuroticism_score': 13.27854590647819,\n",
       "  'agreeableness_score': 2.638496193879133,\n",
       "  'conscientiousness_score': -2.3694267515923473,\n",
       "  'openness_score': 6.2877116669256035},\n",
       " 'two': {'extroversion_score': -10.620949263502464,\n",
       "  'neuroticism_score': 13.556464811783943,\n",
       "  'agreeableness_score': 2.861211129296256,\n",
       "  'conscientiousness_score': -1.5564648117839708,\n",
       "  'openness_score': 6.995744680851043},\n",
       " 'three': {'extroversion_score': 4.174798414650809,\n",
       "  'neuroticism_score': 20.443487768211014,\n",
       "  'agreeableness_score': -0.044143774771077116,\n",
       "  'conscientiousness_score': 10.883285499521659,\n",
       "  'openness_score': 16.794724613912805},\n",
       " 'four': {'extroversion_score': 1.4534864370111542,\n",
       "  'neuroticism_score': 19.598934930936927,\n",
       "  'agreeableness_score': -0.006656681644201523,\n",
       "  'conscientiousness_score': 8.566483607921455,\n",
       "  'openness_score': 15.1958728573806},\n",
       " 'five': {'extroversion_score': 10.635623229461732,\n",
       "  'neuroticism_score': 23.461638338054748,\n",
       "  'agreeableness_score': -2.3070113314447562,\n",
       "  'conscientiousness_score': 15.390344664778073,\n",
       "  'openness_score': 20.28977809254011},\n",
       " 'six': {'extroversion_score': -0.8396851698425842,\n",
       "  'neuroticism_score': 19.01422259044463,\n",
       "  'agreeableness_score': -0.33070974868820535,\n",
       "  'conscientiousness_score': 6.491714995857498,\n",
       "  'openness_score': 13.226594863297432},\n",
       " 'seven': {'extroversion_score': -5.746706725213775,\n",
       "  'neuroticism_score': 15.301594638317543,\n",
       "  'agreeableness_score': 2.573607580309678,\n",
       "  'conscientiousness_score': 2.5269239657961644,\n",
       "  'openness_score': 9.764733071412067},\n",
       " 'eight': {'extroversion_score': -6.029141865079355,\n",
       "  'neuroticism_score': 15.999875992063483,\n",
       "  'agreeableness_score': 0.933159722222233,\n",
       "  'conscientiousness_score': 2.489955357142867,\n",
       "  'openness_score': 10.79749503968253},\n",
       " 'nine': {'extroversion_score': -0.15423758554132405,\n",
       "  'neuroticism_score': 16.6395858922618,\n",
       "  'agreeableness_score': 0.19775399192841592,\n",
       "  'conscientiousness_score': 6.147218810317601,\n",
       "  'openness_score': 12.200912440779089},\n",
       " 'ten': {'extroversion_score': 8.127889240877625,\n",
       "  'neuroticism_score': 22.46955297430482,\n",
       "  'agreeableness_score': -2.3301654347060845,\n",
       "  'conscientiousness_score': 13.24650944503109,\n",
       "  'openness_score': 19.136219640971486}}"
      ]
     },
     "execution_count": 25,
     "metadata": {},
     "output_type": "execute_result"
    }
   ],
   "source": [
    "all_types_scores"
   ]
  },
  {
   "cell_type": "code",
   "execution_count": 26,
   "id": "c1946934",
   "metadata": {},
   "outputs": [],
   "source": [
    "#extracting value(personality_trait) from dictionary all_types_scores \n",
    "\n",
    "all_extroversion = []\n",
    "all_neuroticism =[]\n",
    "all_agreeableness =[]\n",
    "all_conscientiousness =[]\n",
    "all_openness =[]\n",
    "\n",
    "for personality_type, personality_trait in all_types_scores.items():\n",
    "    all_extroversion.append(personality_trait['extroversion_score'])\n",
    "    all_neuroticism.append(personality_trait['neuroticism_score'])\n",
    "    all_agreeableness.append(personality_trait['agreeableness_score'])\n",
    "    all_conscientiousness.append(personality_trait['conscientiousness_score'])\n",
    "    all_openness.append(personality_trait['openness_score'])"
   ]
  },
  {
   "cell_type": "code",
   "execution_count": 27,
   "id": "425e58cf",
   "metadata": {},
   "outputs": [],
   "source": [
    "all_extroversion_normalized = (all_extroversion-min(all_extroversion))/(max(all_extroversion)-min(all_extroversion))\n",
    "all_neuroticism_normalized = (all_neuroticism-min(all_neuroticism))/(max(all_neuroticism)-min(all_neuroticism))\n",
    "all_agreeableness_normalized = (all_agreeableness-min(all_agreeableness))/(max(all_agreeableness)-min(all_agreeableness))\n",
    "all_conscientiousness_normalized = (all_conscientiousness-min(all_conscientiousness))/(max(all_conscientiousness)-min(all_conscientiousness))\n",
    "all_openness_normalized = (all_openness-min(all_openness))/(max(all_openness)-min(all_openness))"
   ]
  },
  {
   "cell_type": "markdown",
   "id": "4662c379",
   "metadata": {},
   "source": [
    "### This formula scales the values in the array between 0 and 1 by subtracting the minimum value from each value and dividing the result by the range (i.e., the difference between the maximum and minimum values). This is done to ensure that all the values fall within the same range and to remove the effect of differences in the original scale.\n",
    "\n",
    "### In this code, the min() and max() functions are used to find the minimum and maximum values in each array, and the formula is applied to each value in the array using a list comprehension. The resulting normalized arrays are stored in the variables all_extroversion_normalized, all_neuroticism_normalized, all_agreeableness_normalized, all_conscientiousness_normalized, and all_openness_normalized, respectively.\n",
    "\n",
    "### Overall, this code performs normalization on the arrays to ensure that the values are on the same scale and removes the effect of differences in the original scale."
   ]
  },
  {
   "cell_type": "code",
   "execution_count": 28,
   "id": "98eedb22",
   "metadata": {},
   "outputs": [
    {
     "data": {
      "text/plain": [
       "array([0.        , 0.04604886, 0.71005151, 0.58792464, 1.        ,\n",
       "       0.48501182, 0.26479481, 0.25211971, 0.5157733 , 0.88745807])"
      ]
     },
     "execution_count": 28,
     "metadata": {},
     "output_type": "execute_result"
    }
   ],
   "source": [
    "all_extroversion_normalized"
   ]
  },
  {
   "cell_type": "code",
   "execution_count": 29,
   "id": "ae898c95",
   "metadata": {},
   "outputs": [],
   "source": [
    "counter = 0\n",
    "\n",
    "normalized_all_types_scores ={}\n",
    "\n",
    "for personality_type, personality_trait in all_types_scores.items():\n",
    "    normalized_personality_trait ={}\n",
    "    normalized_personality_trait['extroversion_score'] = all_extroversion_normalized[counter]\n",
    "    normalized_personality_trait['neuroticism_score'] = all_neuroticism_normalized[counter]\n",
    "    normalized_personality_trait['agreeableness_score'] = all_agreeableness_normalized[counter]\n",
    "    normalized_personality_trait['conscientiousness_score'] = all_conscientiousness_normalized[counter]\n",
    "    normalized_personality_trait['openness_score'] = all_openness_normalized[counter]\n",
    "    \n",
    "    normalized_all_types_scores[personality_type] = normalized_personality_trait\n",
    "    \n",
    "    counter+=1"
   ]
  },
  {
   "cell_type": "code",
   "execution_count": 30,
   "id": "cf8b50e0",
   "metadata": {},
   "outputs": [
    {
     "data": {
      "text/plain": [
       "{'one': {'extroversion_score': 0.0,\n",
       "  'neuroticism_score': 0.0,\n",
       "  'agreeableness_score': 0.9570990598213476,\n",
       "  'conscientiousness_score': 0.0,\n",
       "  'openness_score': 0.0},\n",
       " 'two': {'extroversion_score': 0.04604886083805992,\n",
       "  'neuroticism_score': 0.02729219116620803,\n",
       "  'agreeableness_score': 1.0,\n",
       "  'conscientiousness_score': 0.04577547316059557,\n",
       "  'openness_score': 0.05056632302716464},\n",
       " 'three': {'extroversion_score': 0.7100515055258965,\n",
       "  'neuroticism_score': 0.7036115904747355,\n",
       "  'agreeableness_score': 0.44034980544208063,\n",
       "  'conscientiousness_score': 0.7462208797855391,\n",
       "  'openness_score': 0.750390165823405},\n",
       " 'four': {'extroversion_score': 0.5879246357333351,\n",
       "  'neuroticism_score': 0.6206748163121807,\n",
       "  'agreeableness_score': 0.44757083683225485,\n",
       "  'conscientiousness_score': 0.6157686438144925,\n",
       "  'openness_score': 0.6362033231151484},\n",
       " 'five': {'extroversion_score': 1.0,\n",
       "  'neuroticism_score': 1.0,\n",
       "  'agreeableness_score': 0.004460108600459028,\n",
       "  'conscientiousness_score': 1.0,\n",
       "  'openness_score': 1.0},\n",
       " 'six': {'extroversion_score': 0.48501182289034195,\n",
       "  'neuroticism_score': 0.5632548975182419,\n",
       "  'agreeableness_score': 0.3851494225794286,\n",
       "  'conscientiousness_score': 0.49894458322148866,\n",
       "  'openness_score': 0.4955613682619208},\n",
       " 'seven': {'extroversion_score': 0.2647948145185573,\n",
       "  'neuroticism_score': 0.19866742302820697,\n",
       "  'agreeableness_score': 0.9445997520232192,\n",
       "  'conscientiousness_score': 0.27569897171509783,\n",
       "  'openness_score': 0.24832201896470205},\n",
       " 'eight': {'extroversion_score': 0.25211970786609433,\n",
       "  'neuroticism_score': 0.2672400455824964,\n",
       "  'agreeableness_score': 0.6286049791796314,\n",
       "  'conscientiousness_score': 0.2736173791209938,\n",
       "  'openness_score': 0.32207984419406915},\n",
       " 'nine': {'extroversion_score': 0.515773296975424,\n",
       "  'neuroticism_score': 0.3300608345026334,\n",
       "  'agreeableness_score': 0.4869458794731657,\n",
       "  'conscientiousness_score': 0.4795470258169856,\n",
       "  'openness_score': 0.4223091502434415},\n",
       " 'ten': {'extroversion_score': 0.8874580699255843,\n",
       "  'neuroticism_score': 0.9025752372949507,\n",
       "  'agreeableness_score': 0.0,\n",
       "  'conscientiousness_score': 0.8792870037859349,\n",
       "  'openness_score': 0.9176151279029517}}"
      ]
     },
     "execution_count": 30,
     "metadata": {},
     "output_type": "execute_result"
    }
   ],
   "source": [
    "normalized_all_types_scores"
   ]
  },
  {
   "cell_type": "code",
   "execution_count": 31,
   "id": "015d9979",
   "metadata": {},
   "outputs": [],
   "source": [
    "import numpy as np\n",
    "import matplotlib.pyplot as plt"
   ]
  },
  {
   "cell_type": "code",
   "execution_count": 32,
   "id": "6b5f38f0",
   "metadata": {},
   "outputs": [
    {
     "data": {
      "image/png": "[encoded data removed]",
      "text/plain": [
       "<Figure size 1080x360 with 1 Axes>"
      ]
     },
     "metadata": {
      "needs_background": "light"
     },
     "output_type": "display_data"
    }
   ],
   "source": [
    "plt.figure(figsize=(15,5))\n",
    "plt.ylim(0, 1)\n",
    "plt.bar(list(normalized_all_types_scores['one'].keys()), normalized_all_types_scores['one'].values(), color='g')\n",
    "plt.show()"
   ]
  },
  {
   "cell_type": "code",
   "execution_count": 33,
   "id": "f8830146",
   "metadata": {},
   "outputs": [
    {
     "data": {
      "image/png": "[encoded data removed]",
      "text/plain": [
       "<Figure size 1080x360 with 1 Axes>"
      ]
     },
     "metadata": {
      "needs_background": "light"
     },
     "output_type": "display_data"
    }
   ],
   "source": [
    "plt.figure(figsize=(15,5))\n",
    "plt.ylim(0, 1)\n",
    "plt.bar(list(normalized_all_types_scores['two'].keys()), normalized_all_types_scores['two'].values(), color='g')\n",
    "plt.show()"
   ]
  },
  {
   "cell_type": "code",
   "execution_count": 34,
   "id": "a3cb5da4",
   "metadata": {},
   "outputs": [
    {
     "data": {
      "image/png": "[encoded data removed]",
      "text/plain": [
       "<Figure size 1080x360 with 1 Axes>"
      ]
     },
     "metadata": {
      "needs_background": "light"
     },
     "output_type": "display_data"
    }
   ],
   "source": [
    "plt.figure(figsize=(15,5))\n",
    "plt.ylim(0, 1)\n",
    "plt.bar(list(normalized_all_types_scores['three'].keys()), normalized_all_types_scores['three'].values(), color='g')\n",
    "plt.show()"
   ]
  },
  {
   "cell_type": "code",
   "execution_count": 35,
   "id": "048bca1d",
   "metadata": {},
   "outputs": [
    {
     "data": {
      "image/png": "[encoded data removed]",
      "text/plain": [
       "<Figure size 1080x360 with 1 Axes>"
      ]
     },
     "metadata": {
      "needs_background": "light"
     },
     "output_type": "display_data"
    }
   ],
   "source": [
    "plt.figure(figsize=(15,5))\n",
    "plt.ylim(0, 1)\n",
    "plt.bar(list(normalized_all_types_scores['four'].keys()), normalized_all_types_scores['four'].values(), color='g')\n",
    "plt.show()"
   ]
  },
  {
   "cell_type": "code",
   "execution_count": 36,
   "id": "b598020f",
   "metadata": {},
   "outputs": [
    {
     "data": {
      "image/png": "[encoded data removed]",
      "text/plain": [
       "<Figure size 1080x360 with 1 Axes>"
      ]
     },
     "metadata": {
      "needs_background": "light"
     },
     "output_type": "display_data"
    }
   ],
   "source": [
    "plt.figure(figsize=(15,5))\n",
    "plt.ylim(0, 1)\n",
    "plt.bar(list(normalized_all_types_scores['five'].keys()), normalized_all_types_scores['five'].values(), color='g')\n",
    "plt.show()"
   ]
  },
  {
   "cell_type": "code",
   "execution_count": 37,
   "id": "8eec5495",
   "metadata": {},
   "outputs": [
    {
     "data": {
      "image/png": "[encoded data removed]",
      "text/plain": [
       "<Figure size 1080x360 with 1 Axes>"
      ]
     },
     "metadata": {
      "needs_background": "light"
     },
     "output_type": "display_data"
    }
   ],
   "source": [
    "plt.figure(figsize=(15,5))\n",
    "plt.ylim(0, 1)\n",
    "plt.bar(list(normalized_all_types_scores['six'].keys()), normalized_all_types_scores['six'].values(), color='g')\n",
    "plt.show()"
   ]
  },
  {
   "cell_type": "code",
   "execution_count": 38,
   "id": "561d3c1c",
   "metadata": {},
   "outputs": [
    {
     "data": {
      "image/png": "[encoded data removed]",
      "text/plain": [
       "<Figure size 1080x360 with 1 Axes>"
      ]
     },
     "metadata": {
      "needs_background": "light"
     },
     "output_type": "display_data"
    }
   ],
   "source": [
    "plt.figure(figsize=(15,5))\n",
    "plt.ylim(0, 1)\n",
    "plt.bar(list(normalized_all_types_scores['seven'].keys()), normalized_all_types_scores['seven'].values(), color='g')\n",
    "plt.show()"
   ]
  },
  {
   "cell_type": "code",
   "execution_count": 39,
   "id": "ce3da070",
   "metadata": {},
   "outputs": [
    {
     "data": {
      "image/png": "[encoded data removed]",
      "text/plain": [
       "<Figure size 1080x360 with 1 Axes>"
      ]
     },
     "metadata": {
      "needs_background": "light"
     },
     "output_type": "display_data"
    }
   ],
   "source": [
    "plt.figure(figsize=(15,5))\n",
    "plt.ylim(0, 1)\n",
    "plt.bar(list(normalized_all_types_scores['eight'].keys()), normalized_all_types_scores['eight'].values(), color='g')\n",
    "plt.show()"
   ]
  },
  {
   "cell_type": "code",
   "execution_count": 40,
   "id": "4a5274fe",
   "metadata": {},
   "outputs": [
    {
     "data": {
      "image/png": "[encoded data removed]",
      "text/plain": [
       "<Figure size 1080x360 with 1 Axes>"
      ]
     },
     "metadata": {
      "needs_background": "light"
     },
     "output_type": "display_data"
    }
   ],
   "source": [
    "plt.figure(figsize=(15,5))\n",
    "plt.ylim(0, 1)\n",
    "plt.bar(list(normalized_all_types_scores['nine'].keys()), normalized_all_types_scores['nine'].values(), color='g')\n",
    "plt.show()"
   ]
  },
  {
   "cell_type": "code",
   "execution_count": 41,
   "id": "16675369",
   "metadata": {},
   "outputs": [
    {
     "data": {
      "image/png": "[encoded data removed]",
      "text/plain": [
       "<Figure size 1080x360 with 1 Axes>"
      ]
     },
     "metadata": {
      "needs_background": "light"
     },
     "output_type": "display_data"
    }
   ],
   "source": [
    "plt.figure(figsize=(15,5))\n",
    "plt.ylim(0, 1)\n",
    "plt.bar(list(normalized_all_types_scores['ten'].keys()), normalized_all_types_scores['ten'].values(), color='g')\n",
    "plt.show()"
   ]
  },
  {
   "cell_type": "markdown",
   "id": "fb834187",
   "metadata": {},
   "source": [
    "### -->The bar chart displays data for a single personality trait (represented by the string 'one' up to string 'nine' ) from the normalized_all_types_scores dictionary.\n",
    "\n",
    "### It also limits the range of values to between 0 and 1, which is the range of the normalized scores."
   ]
  },
  {
   "cell_type": "code",
   "execution_count": 42,
   "id": "d0eaf790",
   "metadata": {},
   "outputs": [
    {
     "data": {
      "image/png": "[encoded data removed]",
      "text/plain": [
       "<Figure size 432x288 with 1 Axes>"
      ]
     },
     "metadata": {
      "needs_background": "light"
     },
     "output_type": "display_data"
    }
   ],
   "source": [
    "\n",
    "plt.scatter(list(normalized_all_types_scores['one'].keys()), normalized_all_types_scores['one'].values(), color='lime')\n",
    "plt.scatter(list(normalized_all_types_scores['two'].keys()), normalized_all_types_scores['two'].values(), color='pink')\n",
    "plt.scatter(list(normalized_all_types_scores['three'].keys()), normalized_all_types_scores['three'].values(), color='orange')\n",
    "plt.scatter(list(normalized_all_types_scores['four'].keys()), normalized_all_types_scores['four'].values(), color='cyan')\n",
    "plt.scatter(list(normalized_all_types_scores['five'].keys()), normalized_all_types_scores['five'].values(), color='blue')\n",
    "plt.scatter(list(normalized_all_types_scores['six'].keys()), normalized_all_types_scores['six'].values(), color='k')\n",
    "plt.scatter(list(normalized_all_types_scores['seven'].keys()), normalized_all_types_scores['seven'].values(), color='red')\n",
    "plt.scatter(list(normalized_all_types_scores['eight'].keys()), normalized_all_types_scores['eight'].values(), color='grey')\n",
    "plt.scatter(list(normalized_all_types_scores['nine'].keys()), normalized_all_types_scores['nine'].values(), color='brown')\n",
    "plt.scatter(list(normalized_all_types_scores['ten'].keys()), normalized_all_types_scores['ten'].values(), color='g')\n",
    "plt.show()"
   ]
  },
  {
   "cell_type": "markdown",
   "id": "3f87e0bc",
   "metadata": {},
   "source": [
    "### This code is creating a scatter plot using the Matplotlib library. The plot contains 10 different sets of data, each represented by a different color. The data comes from the normalized_all_types_scores dictionary, which contains normalized scores for different personality traits."
   ]
  },
  {
   "cell_type": "code",
   "execution_count": null,
   "id": "8a4816f5",
   "metadata": {},
   "outputs": [],
   "source": []
  }
 ],
 "metadata": {
  "kernelspec": {
   "display_name": "Python 3 (ipykernel)",
   "language": "python",
   "name": "python3"
  },
  "language_info": {
   "codemirror_mode": {
    "name": "ipython",
    "version": 3
   },
   "file_extension": ".py",
   "mimetype": "text/x-python",
   "name": "python",
   "nbconvert_exporter": "python",
   "pygments_lexer": "ipython3",
   "version": "3.9.13"
  }
 },
 "nbformat": 4,
 "nbformat_minor": 5
}
